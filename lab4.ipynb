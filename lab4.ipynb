{
 "cells": [
  {
   "cell_type": "code",
   "execution_count": 1,
   "id": "f900e5ae",
   "metadata": {},
   "outputs": [
    {
     "name": "stdout",
     "output_type": "stream",
     "text": [
      "Introduceti numele documentului dorit: romeo.txt\n",
      "['Arise', 'But', 'It', 'Juliet', 'Who', 'already', 'and', 'breaks', 'east', 'envious', 'fair', 'grief', 'is', 'kill', 'light', 'moon', 'pale', 'sick', 'soft', 'sun', 'the', 'through', 'what', 'window', 'with', 'yonder']\n"
     ]
    }
   ],
   "source": [
    "fname = input('Introduceti numele documentului dorit: ')\n",
    "try:\n",
    "    f=open(fname)\n",
    "except:\n",
    "    print('Fisierul nu a fost gasit')\n",
    "    exit()\n",
    "    \n",
    "my_list=[]\n",
    "for line in f:\n",
    "    data=line.split()\n",
    "    for d in data:\n",
    "        if d in my_list:\n",
    "            continue\n",
    "        else:\n",
    "            my_list.append(d)\n",
    "my_list.sort()\n",
    "print(my_list)"
   ]
  },
  {
   "cell_type": "code",
   "execution_count": 4,
   "id": "d81f4f40",
   "metadata": {},
   "outputs": [
    {
     "name": "stdout",
     "output_type": "stream",
     "text": [
      "Introduceti numele documentului dorit: mbox-short.txt\n",
      "[('04', 3), ('06', 1), ('07', 1), ('09', 2), ('10', 3), ('11', 6), ('14', 1), ('15', 2), ('16', 4), ('17', 2), ('18', 1), ('19', 1)]\n"
     ]
    }
   ],
   "source": [
    "#ultimulexercitiu\n",
    "fname = input('Introduceti numele documentului dorit: ')\n",
    "try:\n",
    "    f=open(fname)\n",
    "except:\n",
    "    print('Fisierul nu a fost gasit')\n",
    "    exit()\n",
    "my_dict=dict()\n",
    "for line in f:\n",
    "    if line.startswith('From '):\n",
    "        dotpos=line.find(':')\n",
    "        ora=line[dotpos-2:dotpos]\n",
    "        if ora not in my_dict:\n",
    "            my_dict[ora]=1\n",
    "        else:\n",
    "            my_dict[ora]+=1\n",
    "t = list(my_dict.items())\n",
    "t.sort()\n",
    "print(t)\n",
    "            "
   ]
  },
  {
   "cell_type": "code",
   "execution_count": null,
   "id": "fc804080",
   "metadata": {},
   "outputs": [],
   "source": []
  }
 ],
 "metadata": {
  "kernelspec": {
   "display_name": "Python 3 (ipykernel)",
   "language": "python",
   "name": "python3"
  },
  "language_info": {
   "codemirror_mode": {
    "name": "ipython",
    "version": 3
   },
   "file_extension": ".py",
   "mimetype": "text/x-python",
   "name": "python",
   "nbconvert_exporter": "python",
   "pygments_lexer": "ipython3",
   "version": "3.9.12"
  }
 },
 "nbformat": 4,
 "nbformat_minor": 5
}
