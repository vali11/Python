{
 "cells": [
  {
   "cell_type": "code",
   "execution_count": 3,
   "id": "a3f34aaf",
   "metadata": {},
   "outputs": [
    {
     "name": "stdout",
     "output_type": "stream",
     "text": [
      "Introduceti nr de ore lucrate: 30\n",
      "Introduceti rata orara: 20\n",
      "Salariul brut este  600\n"
     ]
    }
   ],
   "source": [
    "inp1 = input('Introduceti nr de ore lucrate: ')\n",
    "inp2 = input('Introduceti rata orara: ')\n",
    "try:\n",
    "    numar_ore=int(inp1)\n",
    "    rata_orara=int(inp2)\n",
    "    if numar_ore > 40:\n",
    "        rata_orara = rata_orara*1.5\n",
    "        salariu_brut = numar_ore*rata_orara\n",
    "    else:\n",
    "        salariu_brut = numar_ore*rata_orara\n",
    "    print('Salariul brut este ',salariu_brut)\n",
    "except:\n",
    "    print('Introduceti numai valori numerice!!')\n",
    "    "
   ]
  },
  {
   "cell_type": "code",
   "execution_count": 9,
   "id": "b555e27e",
   "metadata": {},
   "outputs": [
    {
     "name": "stdout",
     "output_type": "stream",
     "text": [
      "Introduceti nr de ore lucrate: 50\n",
      "Introduceti rata orara: 20\n",
      "Salariul brut este:  1300.0\n"
     ]
    }
   ],
   "source": [
    "inp1 = int(input('Introduceti nr de ore lucrate: '))\n",
    "inp2 = int(input('Introduceti rata orara: '))\n",
    "\n",
    "def calcul_salariu(numar_ore, rata_orara):\n",
    "    if numar_ore > 40:\n",
    "        rata_orara_plus = rata_orara*1.5\n",
    "        ore_plus=numar_ore-40\n",
    "        salariu_brut = (numar_ore*rata_orara) + (ore_plus*rata_orara_plus)\n",
    "    else:\n",
    "        salariu_brut = numar_ore*rata_orara\n",
    "        \n",
    "    return salariu_brut\n",
    "\n",
    "x=calcul_salariu(inp1,inp2)\n",
    "print('Salariul brut este: ',x)\n",
    "    \n"
   ]
  },
  {
   "cell_type": "code",
   "execution_count": 10,
   "id": "3ddb2659",
   "metadata": {},
   "outputs": [
    {
     "name": "stdout",
     "output_type": "stream",
     "text": [
      "Introduceti nr de ore lucrate: 50\n",
      "Introduceti rata orara: 20\n",
      "Salariul brut este:  1300.0\n"
     ]
    }
   ],
   "source": [
    "inp1 = input('Introduceti nr de ore lucrate: ')\n",
    "inp2 = input('Introduceti rata orara: ')\n",
    "\n",
    "def calcul_salariu(numar_ore, rata_orara):\n",
    "    if numar_ore > 40:\n",
    "        rata_orara_plus = rata_orara*1.5\n",
    "        ore_plus=numar_ore-40\n",
    "        salariu_brut = (40*rata_orara) + (ore_plus*rata_orara_plus)\n",
    "    else:\n",
    "        salariu_brut = numar_ore*rata_orara\n",
    "        \n",
    "    return salariu_brut\n",
    "try:\n",
    "    x=calcul_salariu(int(inp1),int(inp2))\n",
    "    print('Salariul brut este: ',x)\n",
    "except:\n",
    "    print('Introduceti valori numerice!!')"
   ]
  },
  {
   "cell_type": "code",
   "execution_count": 2,
   "id": "5758a1f6",
   "metadata": {},
   "outputs": [
    {
     "name": "stdout",
     "output_type": "stream",
     "text": [
      "Introduceti nr de ore lucrate: 50\n",
      "Introduceti rata orara: 20\n",
      "Salariul brut este  1100.0\n"
     ]
    }
   ],
   "source": [
    "inp1 = input('Introduceti nr de ore lucrate: ')\n",
    "inp2 = input('Introduceti rata orara: ')\n",
    "try:\n",
    "    numar_ore=int(inp1)\n",
    "    rata_orara=int(inp2)\n",
    "    if numar_ore > 40:\n",
    "        ore_plus = numar_ore-40\n",
    "        rata_orara_plus = rata_orara*1.5\n",
    "        salariu_brut = (40*rata_orara)+(ore_plus*rata_orara_plus)\n",
    "    else:\n",
    "        salariu_brut = numar_ore*rata_orara\n",
    "    print('Salariul brut este ',salariu_brut)\n",
    "except:\n",
    "    print('Introduceti numai valori numerice!!')"
   ]
  },
  {
   "cell_type": "code",
   "execution_count": null,
   "id": "334e067c",
   "metadata": {},
   "outputs": [],
   "source": []
  }
 ],
 "metadata": {
  "kernelspec": {
   "display_name": "Python 3 (ipykernel)",
   "language": "python",
   "name": "python3"
  },
  "language_info": {
   "codemirror_mode": {
    "name": "ipython",
    "version": 3
   },
   "file_extension": ".py",
   "mimetype": "text/x-python",
   "name": "python",
   "nbconvert_exporter": "python",
   "pygments_lexer": "ipython3",
   "version": "3.9.12"
  }
 },
 "nbformat": 4,
 "nbformat_minor": 5
}
