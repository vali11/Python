{
 "cells": [
  {
   "cell_type": "code",
   "execution_count": 3,
   "id": "5295a91b",
   "metadata": {},
   "outputs": [
    {
     "name": "stdout",
     "output_type": "stream",
     "text": [
      "Introduceti un numar: 1\n",
      "Introduceti un numar: 2\n",
      "Introduceti un numar: 3\n",
      "Introduceti un numar: 4\n",
      "Introduceti un numar: gata\n",
      "[1, 2, 3, 4]\n",
      "Lista contine  4 elemente\n",
      "Suma elementelor din lista este  10\n",
      "Media aritmetica a numerelor din lista este  2.5\n"
     ]
    }
   ],
   "source": [
    "lista = []\n",
    "inp=''\n",
    "\n",
    "while True:\n",
    "    inp=input('Introduceti un numar: ')\n",
    "    if inp == 'gata':\n",
    "        break\n",
    "    \n",
    "    try:\n",
    "        lista.append(int(inp))\n",
    "    except:\n",
    "        print('Introduceti o valoare numerica!!!')\n",
    "        continue\n",
    "        \n",
    "print(lista)\n",
    "print('Lista contine ', len(lista), 'elemente')\n",
    "print('Suma elementelor din lista este ', sum(lista))\n",
    "print('Media aritmetica a numerelor din lista este ', sum(lista)/len(lista))"
   ]
  },
  {
   "cell_type": "code",
   "execution_count": null,
   "id": "cc36ffc8",
   "metadata": {},
   "outputs": [
    {
     "name": "stdout",
     "output_type": "stream",
     "text": [
      "Introduceti un numar: c\n",
      "Introduceti o valoare numerica!!!\n"
     ]
    }
   ],
   "source": [
    "inp=''\n",
    "suma=0\n",
    "count=0\n",
    "\n",
    "while True:\n",
    "    inp=input('Introduceti un numar: ')\n",
    "    if inp == 'gata':\n",
    "        break\n",
    "    \n",
    "    try:\n",
    "        suma=suma+int(inp)\n",
    "        count +=1\n",
    "    except:\n",
    "        print('Introduceti o valoare numerica!!!')\n",
    "        continue\n",
    "        \n",
    "print(lista)\n",
    "print('Lista contine ', count, 'elemente')\n",
    "print('Suma elementelor din lista este ', suma)\n",
    "print('Media aritmetica a numerelor din lista este ', suma/count)"
   ]
  },
  {
   "cell_type": "code",
   "execution_count": null,
   "id": "2ebcd151",
   "metadata": {},
   "outputs": [],
   "source": []
  }
 ],
 "metadata": {
  "kernelspec": {
   "display_name": "Python 3 (ipykernel)",
   "language": "python",
   "name": "python3"
  },
  "language_info": {
   "codemirror_mode": {
    "name": "ipython",
    "version": 3
   },
   "file_extension": ".py",
   "mimetype": "text/x-python",
   "name": "python",
   "nbconvert_exporter": "python",
   "pygments_lexer": "ipython3",
   "version": "3.9.12"
  }
 },
 "nbformat": 4,
 "nbformat_minor": 5
}
